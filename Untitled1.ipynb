{
 "cells": [
  {
   "cell_type": "code",
   "execution_count": 1,
   "id": "bf18df45-5547-4f7c-b303-aa2e8d6148c7",
   "metadata": {},
   "outputs": [],
   "source": [
    "li = [-2, 3, 0 ,7 ,10]\n"
   ]
  },
  {
   "cell_type": "code",
   "execution_count": 2,
   "id": "d8dc790a-11dc-433b-aca9-b5824462f221",
   "metadata": {},
   "outputs": [
    {
     "name": "stdout",
     "output_type": "stream",
     "text": [
      "[-2, 3, 0, 7, 10]\n"
     ]
    }
   ],
   "source": [
    "print(li)\n"
   ]
  },
  {
   "cell_type": "code",
   "execution_count": 3,
   "id": "f281b8da-76f0-4fe3-b4aa-e09ff5c444b7",
   "metadata": {},
   "outputs": [
    {
     "data": {
      "text/plain": [
       "3"
      ]
     },
     "execution_count": 3,
     "metadata": {},
     "output_type": "execute_result"
    }
   ],
   "source": [
    "-7%5"
   ]
  },
  {
   "cell_type": "code",
   "execution_count": 4,
   "id": "4dfff9d9-1eda-419a-9530-f880445b9607",
   "metadata": {},
   "outputs": [
    {
     "data": {
      "text/plain": [
       "3"
      ]
     },
     "execution_count": 4,
     "metadata": {},
     "output_type": "execute_result"
    }
   ],
   "source": [
    "-2 % 5"
   ]
  },
  {
   "cell_type": "code",
   "execution_count": null,
   "id": "51580384-5d48-4cd7-9f21-ca0a9fac5ce3",
   "metadata": {},
   "outputs": [],
   "source": []
  }
 ],
 "metadata": {
  "kernelspec": {
   "display_name": "Python 3 (ipykernel)",
   "language": "python",
   "name": "python3"
  },
  "language_info": {
   "codemirror_mode": {
    "name": "ipython",
    "version": 3
   },
   "file_extension": ".py",
   "mimetype": "text/x-python",
   "name": "python",
   "nbconvert_exporter": "python",
   "pygments_lexer": "ipython3",
   "version": "3.11.1"
  }
 },
 "nbformat": 4,
 "nbformat_minor": 5
}
