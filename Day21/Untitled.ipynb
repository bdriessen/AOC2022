{
 "cells": [
  {
   "cell_type": "code",
   "execution_count": 6,
   "metadata": {},
   "outputs": [
    {
     "name": "stdout",
     "output_type": "stream",
     "text": [
      "not yet possible\n",
      "5\n"
     ]
    }
   ],
   "source": [
    "\n",
    "\n",
    "s1 = \"a = b + c\"\n",
    "try:\n",
    "    exec(s1)\n",
    "except NameError:\n",
    "    print(\"not yet possible\")\n",
    "\n",
    "b,c = 1,4\n",
    "try:\n",
    "    exec(s1)\n",
    "except NameError:\n",
    "    print(\"not yet possible\")\n",
    "print(a)\n",
    "        "
   ]
  },
  {
   "cell_type": "code",
   "execution_count": 11,
   "metadata": {},
   "outputs": [
    {
     "data": {
      "text/plain": [
       "['', '2', 'R', '45', 'L', '045', 'R']"
      ]
     },
     "execution_count": 11,
     "metadata": {},
     "output_type": "execute_result"
    }
   ],
   "source": [
    "import re\n",
    "s = \"2R45L045R\"\n",
    "re.split(r\"(\\d+)\", s)\n",
    "#re.findall(r'(\\d+|\\w+)', s)"
   ]
  },
  {
   "cell_type": "code",
   "execution_count": null,
   "metadata": {},
   "outputs": [],
   "source": []
  }
 ],
 "metadata": {
  "kernelspec": {
   "display_name": "Python 3",
   "language": "python",
   "name": "python3"
  },
  "language_info": {
   "codemirror_mode": {
    "name": "ipython",
    "version": 3
   },
   "file_extension": ".py",
   "mimetype": "text/x-python",
   "name": "python",
   "nbconvert_exporter": "python",
   "pygments_lexer": "ipython3",
   "version": "3.8.3"
  }
 },
 "nbformat": 4,
 "nbformat_minor": 4
}
