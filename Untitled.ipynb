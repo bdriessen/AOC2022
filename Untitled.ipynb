{
 "cells": [
  {
   "cell_type": "code",
   "execution_count": 44,
   "id": "9f1463d4-fe06-4917-855a-de7e8aa37fb6",
   "metadata": {},
   "outputs": [],
   "source": [
    "import copy\n",
    "\n",
    "li0 = [1, 2, [3, 4], 5]"
   ]
  },
  {
   "cell_type": "code",
   "execution_count": 45,
   "id": "cb43c581-4328-416d-934e-526c2905ef5e",
   "metadata": {},
   "outputs": [],
   "source": [
    "li1 = li0\n",
    "li2 = copy.copy(li1)\n",
    "li3 = copy.deepcopy(li1)"
   ]
  },
  {
   "cell_type": "code",
   "execution_count": 46,
   "id": "230e8bec-c1dd-467d-93dc-b571631aac61",
   "metadata": {},
   "outputs": [
    {
     "name": "stdout",
     "output_type": "stream",
     "text": [
      "2167992780864\n",
      "2167992780864\n",
      "2167992785344\n",
      "2167992793088\n"
     ]
    }
   ],
   "source": [
    "print(id(li0))\n",
    "print(id(li1))\n",
    "print(id(li2))\n",
    "print(id(li3))\n"
   ]
  },
  {
   "cell_type": "code",
   "execution_count": 47,
   "id": "1cbce137-98b5-4518-8824-6294e495d292",
   "metadata": {},
   "outputs": [
    {
     "name": "stdout",
     "output_type": "stream",
     "text": [
      "['hoi', 2, ['raar', 4], 5]\n",
      "['hoi', 2, ['raar', 4], 5]\n",
      "[1, 2, ['raar', 4], 5]\n",
      "[1, 2, [3, 4], 5]\n"
     ]
    }
   ],
   "source": [
    "li1[0] = 'hoi'\n",
    "li1[2][0] = 'raar'\n",
    "print(li0)\n",
    "print(li1)\n",
    "print(li2)\n",
    "print(li3)"
   ]
  },
  {
   "cell_type": "code",
   "execution_count": 48,
   "id": "539dd112-37b5-4e34-9008-c6f7d45cb2a1",
   "metadata": {},
   "outputs": [
    {
     "name": "stdout",
     "output_type": "stream",
     "text": [
      "1\n"
     ]
    }
   ],
   "source": [
    "a = 1\n",
    "b = a\n",
    "a = 2\n",
    "print(b)\n"
   ]
  },
  {
   "cell_type": "code",
   "execution_count": 50,
   "id": "97bb44b5-c59c-4872-b174-1c54010909de",
   "metadata": {},
   "outputs": [
    {
     "data": {
      "text/plain": [
       "2"
      ]
     },
     "execution_count": 50,
     "metadata": {},
     "output_type": "execute_result"
    }
   ],
   "source": [
    "['ore', 'clay', 'obsidion'].index('obsidion')\n"
   ]
  },
  {
   "cell_type": "code",
   "execution_count": 52,
   "id": "24a10789-74dd-46b5-be5e-58e8653a379e",
   "metadata": {},
   "outputs": [
    {
     "name": "stdout",
     "output_type": "stream",
     "text": [
      "0 hoi\n",
      "1 2\n",
      "2 ['raar', 4]\n",
      "3 5\n"
     ]
    }
   ],
   "source": [
    "for i, v in enumerate(li1):\n",
    "    print(i, v)"
   ]
  },
  {
   "cell_type": "code",
   "execution_count": 53,
   "id": "d46baf3f-ab32-42a6-b718-8fea2ded5c1a",
   "metadata": {},
   "outputs": [],
   "source": [
    "recipe0 = [[(4, 0)], [(3, 0)], [(2, 0), (14,1)], [(2, 0), (7, 2)]]\n",
    "recipe1 = [[(1, 0)], [(1, 0)], [(3, 0), (140,1)], [(20, 0), (70\n",
    "                                                             , 2)]]"
   ]
  },
  {
   "cell_type": "code",
   "execution_count": 54,
   "id": "5882f02a-991e-476e-b13f-61a7536f73b0",
   "metadata": {},
   "outputs": [
    {
     "name": "stdout",
     "output_type": "stream",
     "text": [
      "[[[(4, 0)], [(3, 0)], [(2, 0), (14, 1)], [(2, 0), (7, 2)]], [[(1, 0)], [(1, 0)], [(3, 0), (140, 1)], [(20, 0), (70, 2)]]]\n"
     ]
    }
   ],
   "source": [
    "recipes = [recipe0, recipe1]\n",
    "print(recipes)"
   ]
  },
  {
   "cell_type": "code",
   "execution_count": 56,
   "id": "0fb762b6-2675-43dd-ba97-e791dc15531b",
   "metadata": {},
   "outputs": [
    {
     "name": "stdout",
     "output_type": "stream",
     "text": [
      "0 [(4, 0)]\n",
      "1 [(3, 0)]\n",
      "2 [(2, 0), (14, 1)]\n",
      "3 [(2, 0), (7, 2)]\n"
     ]
    }
   ],
   "source": [
    "for i, v in enumerate(recipe0):\n",
    "    print(i,v)"
   ]
  },
  {
   "cell_type": "code",
   "execution_count": 61,
   "id": "ad16005c-8bdd-471d-867c-017a24a25ce5",
   "metadata": {},
   "outputs": [
    {
     "name": "stdout",
     "output_type": "stream",
     "text": [
      "2 0\n",
      "14 1\n"
     ]
    }
   ],
   "source": [
    "for ramt, rtype in recipe0[2]:\n",
    "    print(ramt, rtype)"
   ]
  },
  {
   "cell_type": "code",
   "execution_count": 63,
   "id": "e2194416-5db8-4951-a3b1-c2da3155d3d1",
   "metadata": {},
   "outputs": [
    {
     "data": {
      "text/plain": [
       "5"
      ]
     },
     "execution_count": 63,
     "metadata": {},
     "output_type": "execute_result"
    }
   ],
   "source": [
    "li1[-1\n",
    "   ]\n"
   ]
  },
  {
   "cell_type": "code",
   "execution_count": null,
   "id": "680f5226-e82f-411b-a23f-d1a959594ec0",
   "metadata": {},
   "outputs": [],
   "source": []
  }
 ],
 "metadata": {
  "kernelspec": {
   "display_name": "Python 3 (ipykernel)",
   "language": "python",
   "name": "python3"
  },
  "language_info": {
   "codemirror_mode": {
    "name": "ipython",
    "version": 3
   },
   "file_extension": ".py",
   "mimetype": "text/x-python",
   "name": "python",
   "nbconvert_exporter": "python",
   "pygments_lexer": "ipython3",
   "version": "3.11.1"
  }
 },
 "nbformat": 4,
 "nbformat_minor": 5
}
