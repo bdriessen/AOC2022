{
 "cells": [
  {
   "cell_type": "code",
   "execution_count": 5,
   "id": "a4fe5c6e-1531-4f77-952e-2371306b3194",
   "metadata": {},
   "outputs": [],
   "source": [
    "import numpy as np\n"
   ]
  },
  {
   "cell_type": "code",
   "execution_count": 6,
   "id": "a85fec0d-8374-407b-bad0-08f3a9e75bba",
   "metadata": {},
   "outputs": [
    {
     "name": "stdout",
     "output_type": "stream",
     "text": [
      "(4, 1)\n"
     ]
    }
   ],
   "source": [
    "token3 = np.array([[1],[1],[1],[1]])\n",
    "print(token3.shape)"
   ]
  },
  {
   "cell_type": "code",
   "execution_count": 1,
   "id": "3da6558b-9201-44a9-ad2b-371c1c8d0688",
   "metadata": {},
   "outputs": [],
   "source": [
    "delta_height = 2616\n",
    "delta_tkn = 1715\n",
    "tkn_target = 1000000000000\n"
   ]
  },
  {
   "cell_type": "code",
   "execution_count": 7,
   "id": "a9d41be3-c3e9-4d75-9328-15480cbc6367",
   "metadata": {},
   "outputs": [
    {
     "name": "stdout",
     "output_type": "stream",
     "text": [
      "Full cycles:  583090379\n",
      "Remainder:  15\n",
      "Height after full cycles:  1525364431464\n",
      "Total height:  1525364431484\n"
     ]
    }
   ],
   "source": [
    "cycles = tkn_target // delta_tkn\n",
    "cycle_remainder = tkn_target - cycles*delta_tkn\n",
    "print(\"Full cycles: \", cycles)\n",
    "print(\"Remainder: \", cycle_remainder)\n",
    "print(\"Height after full cycles: \", cycles*delta_height)\n",
    "print(\"Total height: \", cycles*delta_height + 20)"
   ]
  },
  {
   "cell_type": "code",
   "execution_count": null,
   "id": "256efb6a-1bb1-4fc0-98a8-41abd16cf11b",
   "metadata": {},
   "outputs": [],
   "source": []
  }
 ],
 "metadata": {
  "kernelspec": {
   "display_name": "Python 3 (ipykernel)",
   "language": "python",
   "name": "python3"
  },
  "language_info": {
   "codemirror_mode": {
    "name": "ipython",
    "version": 3
   },
   "file_extension": ".py",
   "mimetype": "text/x-python",
   "name": "python",
   "nbconvert_exporter": "python",
   "pygments_lexer": "ipython3",
   "version": "3.11.1"
  }
 },
 "nbformat": 4,
 "nbformat_minor": 5
}
