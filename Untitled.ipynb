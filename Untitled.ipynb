{
 "cells": [
  {
   "cell_type": "code",
   "execution_count": 6,
   "id": "dc4781c9-65a9-4b45-9fae-702af96642db",
   "metadata": {},
   "outputs": [],
   "source": [
    "from Day18 import Day18\n",
    "coords = Day18.read_input_file(\"Day18/testinput.txt\")"
   ]
  },
  {
   "cell_type": "code",
   "execution_count": 7,
   "id": "c5b29421-7458-443a-bc91-541433451765",
   "metadata": {},
   "outputs": [
    {
     "name": "stdout",
     "output_type": "stream",
     "text": [
      "[[2, 2, 2], [1, 2, 2], [3, 2, 2], [2, 1, 2], [2, 3, 2], [2, 2, 1], [2, 2, 3], [2, 2, 4], [2, 2, 6], [1, 2, 5], [3, 2, 5], [2, 1, 5], [2, 3, 5]]\n"
     ]
    }
   ],
   "source": [
    "print(coords)\n"
   ]
  },
  {
   "cell_type": "code",
   "execution_count": 10,
   "id": "135b0e85-64c8-45ae-b184-4d47593ec2f4",
   "metadata": {},
   "outputs": [
    {
     "data": {
      "text/plain": [
       "True"
      ]
     },
     "execution_count": 10,
     "metadata": {},
     "output_type": "execute_result"
    }
   ],
   "source": [
    "[1,2,       2] in coords"
   ]
  },
  {
   "cell_type": "code",
   "execution_count": 12,
   "id": "126dabb4-1017-4dd0-a57c-256648391d66",
   "metadata": {},
   "outputs": [
    {
     "data": {
      "text/plain": [
       "True"
      ]
     },
     "execution_count": 12,
     "metadata": {},
     "output_type": "execute_result"
    }
   ],
   "source": [
    "[2, 2, 2] in coords\n"
   ]
  },
  {
   "cell_type": "code",
   "execution_count": null,
   "id": "2bef74ec-54cf-48ed-ae5c-b64abaa4768d",
   "metadata": {},
   "outputs": [],
   "source": []
  }
 ],
 "metadata": {
  "kernelspec": {
   "display_name": "Python 3 (ipykernel)",
   "language": "python",
   "name": "python3"
  },
  "language_info": {
   "codemirror_mode": {
    "name": "ipython",
    "version": 3
   },
   "file_extension": ".py",
   "mimetype": "text/x-python",
   "name": "python",
   "nbconvert_exporter": "python",
   "pygments_lexer": "ipython3",
   "version": "3.11.1"
  }
 },
 "nbformat": 4,
 "nbformat_minor": 5
}
